{
  "nbformat": 4,
  "nbformat_minor": 0,
  "metadata": {
    "colab": {
      "provenance": [],
      "authorship_tag": "ABX9TyMsOIHbIXw1HiFY4yil/fB5",
      "include_colab_link": true
    },
    "kernelspec": {
      "name": "python3",
      "display_name": "Python 3"
    },
    "language_info": {
      "name": "python"
    }
  },
  "cells": [
    {
      "cell_type": "markdown",
      "metadata": {
        "id": "view-in-github",
        "colab_type": "text"
      },
      "source": [
        "<a href=\"https://colab.research.google.com/github/angeloBomfim2201090/massakigarfo/blob/main/Untitled1.ipynb\" target=\"_parent\"><img src=\"https://colab.research.google.com/assets/colab-badge.svg\" alt=\"Open In Colab\"/></a>"
      ]
    },
    {
      "cell_type": "code",
      "execution_count": 1,
      "metadata": {
        "colab": {
          "base_uri": "https://localhost:8080/"
        },
        "id": "xBBJ_t0ECrMB",
        "outputId": "097956e6-89fb-4a1e-803d-9707ed7c0c56"
      },
      "outputs": [
        {
          "output_type": "stream",
          "name": "stdout",
          "text": [
            "Digite um número: 7\n",
            "O número é ímpar.\n"
          ]
        }
      ],
      "source": [
        "# Função para verificar se um número é par ou ímpar\n",
        "def verificar_par_ou_impar(numero):\n",
        "    if numero % 2 == 0:\n",
        "        return \"O número é par.\"\n",
        "    else:\n",
        "        return \"O número é ímpar.\"\n",
        "\n",
        "# Solicitar entrada do usuário\n",
        "try:\n",
        "    numero = int(input(\"Digite um número: \"))\n",
        "    resultado = verificar_par_ou_impar(numero)\n",
        "    print(resultado)\n",
        "except ValueError:\n",
        "    print(\"Por favor, digite um número inteiro válido.\")\n"
      ]
    },
    {
      "cell_type": "code",
      "source": [
        "import math\n",
        "\n",
        "# Função para calcular a raiz quadrada\n",
        "def calcular_raiz_quadrada(numero):\n",
        "    if numero >= 0:\n",
        "        return math.sqrt(numero)\n",
        "    else:\n",
        "        return None\n",
        "\n",
        "# Solicitar entrada do usuário\n",
        "try:\n",
        "    numero = float(input(\"Digite um número: \"))\n",
        "    raiz = calcular_raiz_quadrada(numero)\n",
        "\n",
        "    if raiz is not None:\n",
        "        print(f\"A raiz quadrada de {numero} é {raiz:.2f}.\")\n",
        "    else:\n",
        "        print(\"Não existe raiz real para este número!\")\n",
        "except ValueError:\n",
        "    print(\"Por favor, digite um número válido.\")\n"
      ],
      "metadata": {
        "colab": {
          "base_uri": "https://localhost:8080/"
        },
        "id": "L5fXNFRaN2Zd",
        "outputId": "f4dab8d9-1957-4b3f-f5e1-4b0febf021ee"
      },
      "execution_count": 2,
      "outputs": [
        {
          "output_type": "stream",
          "name": "stdout",
          "text": [
            "Digite um número: 5\n",
            "A raiz quadrada de 5.0 é 2.24.\n"
          ]
        }
      ]
    },
    {
      "cell_type": "code",
      "source": [
        "# Função para determinar o tamanho da camiseta com base nas medidas\n",
        "def determinar_tamanho(c, l):\n",
        "    if c <= 40 and l <= 50:\n",
        "        return \"PP\"\n",
        "    elif 41 <= c <= 45 and 51 <= l <= 55:\n",
        "        return \"P\"\n",
        "    elif 46 <= c <= 50 and 56 <= l <= 60:\n",
        "        return \"M\"\n",
        "    elif 51 <= c <= 55 and 61 <= l <= 65:\n",
        "        return \"G\"\n",
        "    elif c > 55 and l > 65:\n",
        "        return \"GG\"\n",
        "    else:\n",
        "        return \"Medidas fora dos padrões definidos.\"\n",
        "\n",
        "# Solicitar entrada do usuário\n",
        "try:\n",
        "    comprimento = float(input(\"Digite o comprimento da camiseta (em cm): \"))\n",
        "    largura = float(input(\"Digite a largura da camiseta (em cm): \"))\n",
        "\n",
        "    tamanho = determinar_tamanho(comprimento, largura)\n",
        "    print(f\"O tamanho da camiseta é: {tamanho}\")\n",
        "except ValueError:\n",
        "    print(\"Por favor, digite valores numéricos válidos para comprimento e largura.\")\n"
      ],
      "metadata": {
        "colab": {
          "base_uri": "https://localhost:8080/"
        },
        "id": "jWb6K367Rox5",
        "outputId": "20fd100a-718b-4fa2-d452-ee893d9898e3"
      },
      "execution_count": 3,
      "outputs": [
        {
          "output_type": "stream",
          "name": "stdout",
          "text": [
            "Digite o comprimento da camiseta (em cm): 50\n",
            "Digite a largura da camiseta (em cm): 50\n",
            "O tamanho da camiseta é: Medidas fora dos padrões definidos.\n"
          ]
        }
      ]
    }
  ]
}