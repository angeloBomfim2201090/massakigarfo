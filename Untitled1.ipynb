{
  "nbformat": 4,
  "nbformat_minor": 0,
  "metadata": {
    "colab": {
      "provenance": [],
      "authorship_tag": "ABX9TyOWlU875Z13ZmN54DoB4SQT",
      "include_colab_link": true
    },
    "kernelspec": {
      "name": "python3",
      "display_name": "Python 3"
    },
    "language_info": {
      "name": "python"
    }
  },
  "cells": [
    {
      "cell_type": "markdown",
      "metadata": {
        "id": "view-in-github",
        "colab_type": "text"
      },
      "source": [
        "<a href=\"https://colab.research.google.com/github/angeloBomfim2201090/massakigarfo/blob/main/Untitled1.ipynb\" target=\"_parent\"><img src=\"https://colab.research.google.com/assets/colab-badge.svg\" alt=\"Open In Colab\"/></a>"
      ]
    },
    {
      "cell_type": "code",
      "execution_count": 1,
      "metadata": {
        "colab": {
          "base_uri": "https://localhost:8080/"
        },
        "id": "xBBJ_t0ECrMB",
        "outputId": "097956e6-89fb-4a1e-803d-9707ed7c0c56"
      },
      "outputs": [
        {
          "output_type": "stream",
          "name": "stdout",
          "text": [
            "Digite um número: 7\n",
            "O número é ímpar.\n"
          ]
        }
      ],
      "source": [
        "# Função para verificar se um número é par ou ímpar\n",
        "def verificar_par_ou_impar(numero):\n",
        "    if numero % 2 == 0:\n",
        "        return \"O número é par.\"\n",
        "    else:\n",
        "        return \"O número é ímpar.\"\n",
        "\n",
        "# Solicitar entrada do usuário\n",
        "try:\n",
        "    numero = int(input(\"Digite um número: \"))\n",
        "    resultado = verificar_par_ou_impar(numero)\n",
        "    print(resultado)\n",
        "except ValueError:\n",
        "    print(\"Por favor, digite um número inteiro válido.\")\n"
      ]
    },
    {
      "cell_type": "code",
      "source": [
        "import math\n",
        "\n",
        "# Função para calcular a raiz quadrada\n",
        "def calcular_raiz_quadrada(numero):\n",
        "    if numero >= 0:\n",
        "        return math.sqrt(numero)\n",
        "    else:\n",
        "        return None\n",
        "\n",
        "# Solicitar entrada do usuário\n",
        "try:\n",
        "    numero = float(input(\"Digite um número: \"))\n",
        "    raiz = calcular_raiz_quadrada(numero)\n",
        "\n",
        "    if raiz is not None:\n",
        "        print(f\"A raiz quadrada de {numero} é {raiz:.2f}.\")\n",
        "    else:\n",
        "        print(\"Não existe raiz real para este número!\")\n",
        "except ValueError:\n",
        "    print(\"Por favor, digite um número válido.\")\n"
      ],
      "metadata": {
        "colab": {
          "base_uri": "https://localhost:8080/"
        },
        "id": "L5fXNFRaN2Zd",
        "outputId": "f4dab8d9-1957-4b3f-f5e1-4b0febf021ee"
      },
      "execution_count": 2,
      "outputs": [
        {
          "output_type": "stream",
          "name": "stdout",
          "text": [
            "Digite um número: 5\n",
            "A raiz quadrada de 5.0 é 2.24.\n"
          ]
        }
      ]
    }
  ]
}